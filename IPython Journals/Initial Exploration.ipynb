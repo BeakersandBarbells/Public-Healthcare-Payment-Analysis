{
 "cells": [
  {
   "cell_type": "heading",
   "metadata": {
    "collapsed": true
   },
   "level": 2,
   "source": [
    "General Project Notes:\n",
    "\n",
    "This projects goal is to understand the healthcare marketplace and map the market-prices to get a clear view of where individuals can receive the best value care. "
   ]
  },
  {
   "cell_type": "heading",
   "metadata": {},
   "level": 2,
   "source": [
    ""
   ]
  },
  {
   "cell_type": "code",
   "execution_count": 2,
   "metadata": {
    "collapsed": false
   },
   "outputs": [
    {
     "name": "stdout",
     "output_type": "stream",
     "text": [
      "CMS Outpatient 2014 Columns ['apc', 'provider_id', 'provider_name', 'Provider_Street_Address', 'Provider_City', 'Provider_State', 'Provider_Zip_Code', 'Hospital_Referral_Region', 'Outpatient_Services', 'Average_Estimated_Submitted_Charges', 'Average_Total_Payments']\n"
     ]
    }
   ],
   "source": [
    "import pandas\n",
    "import numpy\n",
    "from matplotlib import pyplot as plt\n",
    "\n",
    "CMS_Out_2014 = pandas.read_csv(\"CMS Data/Medicare_Provider_Charge_Outpatient_APC32_CY2014.csv\")     ###Data from cms.gov\n",
    "\n",
    "CMS_Out_2014_columns = list(CMS_Out_2014)\n",
    "\n",
    "print 'CMS Outpatient 2014 Columns', CMS_Out_2014_columns"
   ]
  },
  {
   "cell_type": "heading",
   "metadata": {},
   "level": 2,
   "source": [
    "The CMS dataset contains a broad collection of payment data on a number of codes hospitals use to bill patients."
   ]
  },
  {
   "cell_type": "code",
   "execution_count": 3,
   "metadata": {},
   "outputs": [
    {
     "name": "stdout",
     "output_type": "stream",
     "text": [
      "['0012 - Level I Debridement & Destruction', '0013 - Level II Debridement & Destruction', '0015 - Level III Debridement & Destruction', '0017 - Level V Debridement & Destruction', '0019 - Level I Excision/ Biopsy', '0020 - Level II Excision/ Biopsy', '0073 - Level III Endoscopy Upper Airway', '0074 - Level IV Endoscopy Upper Airway', '0078 - Level III Pulmonary Treatment', '0096 - Level II Noninvasive Physiologic Studies', '0203 - Level IV Nerve Injections', '0204 - Level I Nerve Injections', '0206 - Level II Nerve Injections', '0207 - Level III Nerve Injections', '0209 - Level II Extended EEG, Sleep, and Cardiovascular Studies', '0231 - Level III Eye Tests & Treatments', '0265 - Level I Diagnostic and Screening Ultrasound', '0267 - Level III Diagnostic and Screening Ultrasound', '0269 - Level II Echocardiogram Without Contrast', '0270 - Level III Echocardiogram Without Contrast', '0336 - Magnetic Resonance Imaging and Magnetic Resonance Angiography without Contrast', '0368 - Level II Pulmonary Tests', '0369 - Level III Pulmonary Tests', '0377 - Level II Cardiac Imaging', '0631 - Level 1 Examinations & Related Services', '0632 - Level 2 Examinations & Related Services', '0633 - Level 3 Examinations & Related Services', '0634 - Hospital Clinic Visits', '0690 - Level I Electronic Analysis of Devices', '0692 - Level II Electronic Analysis of Devices', '0698 - Level II Eye Tests & Treatments', '0699 - Level IV Eye Tests & Treatments']\n"
     ]
    }
   ],
   "source": [
    "Outpatient_Code_list = []\n",
    "CMS_Out_2014sorted = CMS_Out_2014.sort_values('apc')\n",
    "for item in CMS_Out_2014sorted.apc:\n",
    "    if item not in Outpatient_Code_list:\n",
    "        Outpatient_Code_list.append(item)\n",
    "        \n",
    "print Outpatient_Code_list"
   ]
  },
  {
   "cell_type": "heading",
   "metadata": {},
   "level": 3,
   "source": [
    "Lets look at the Inpatient Codes"
   ]
  },
  {
   "cell_type": "code",
   "execution_count": 4,
   "metadata": {},
   "outputs": [
    {
     "name": "stdout",
     "output_type": "stream",
     "text": [
      "['DRG Definition', 'Provider Id', 'Provider Name', 'Provider Street Address', 'Provider City', 'Provider State', 'Provider Zip Code', 'Hospital Referral Region (HRR) Description', 'Total Discharges', 'Average Covered Charges', 'Average Total Payments', 'Average Medicare Payments']\n"
     ]
    },
    {
     "name": "stdout",
     "output_type": "stream",
     "text": [
      "['001 - HEART TRANSPLANT OR IMPLANT OF HEART ASSIST SYSTEM W MCC', '002 - HEART TRANSPLANT OR IMPLANT OF HEART ASSIST SYSTEM W/O MCC', '003 - ECMO OR TRACH W MV 96+ HRS OR PDX EXC FACE, MOUTH & NECK W MAJ O.R.', '004 - TRACH W MV 96+ HRS OR PDX EXC FACE, MOUTH & NECK W/O MAJ O.R.', '005 - LIVER TRANSPLANT W MCC OR INTESTINAL TRANSPLANT']\n"
     ]
    }
   ],
   "source": [
    "CMS_In_2014 = pandas.read_csv(\"CMS Data/Medicare_Provider_Charge_Inpatient_DRGALL_FY2014.csv\")     ###Data from cms.gov\n",
    "\n",
    "print list(CMS_In_2014)\n",
    "\n",
    "Inpatient_Code_List = []\n",
    "CMS_In_2014sorted = CMS_In_2014.sort_values('DRG Definition')\n",
    "for item in CMS_In_2014sorted['DRG Definition']:\n",
    "    if item not in Inpatient_Code_List:\n",
    "        Inpatient_Code_List.append(item)\n",
    "\n",
    "print Inpatient_Code_List[:5]"
   ]
  },
  {
   "cell_type": "heading",
   "metadata": {},
   "level": 3,
   "source": [
    "Woah! Lets look at the top 3 most common inpatient and outpatient billed codes."
   ]
  },
  {
   "cell_type": "code",
   "execution_count": 12,
   "metadata": {},
   "outputs": [
    {
     "name": "stdout",
     "output_type": "stream",
     "text": [
      "TOP 3 INPATIENT CODES\n[('194 - SIMPLE PNEUMONIA & PLEURISY W CC', 2837), ('871 - SEPTICEMIA OR SEVERE SEPSIS W/O MV 96+ HOURS W MCC', 2837), ('292 - HEART FAILURE & SHOCK W CC', 2774)]\n\nTOP 3 OUTPATIENT CODES\n[('0267 - Level III Diagnostic and Screening Ultrasound', 2924), ('0269 - Level II Echocardiogram Without Contrast', 2847), ('0265 - Level I Diagnostic and Screening Ultrasound', 2664)]\n"
     ]
    }
   ],
   "source": [
    "common_IN_codes_2014 = {}\n",
    "common_OUT_codes_2014 = {}\n",
    "\n",
    "for item in Inpatient_Code_List:    #create the dict keys for the Inpatient codes and set value to 0\n",
    "    common_IN_codes_2014[item] = 0\n",
    "\n",
    "for item in Outpatient_Code_list:     #create the dict keys for the Outpatient codes and set value to 0\n",
    "    common_OUT_codes_2014[item] = 0\n",
    "    \n",
    "for line in CMS_In_2014['DRG Definition']:  #Count all the occurrences of the Inpatient code keys and add to the value to keep count\n",
    "    if line in common_IN_codes_2014:\n",
    "        common_IN_codes_2014[line] += 1\n",
    "        \n",
    "for line in CMS_Out_2014['apc']:  #Count all the occurrences of the Inpatient code keys and add to the value to keep count\n",
    "    if line in common_OUT_codes_2014:\n",
    "        common_OUT_codes_2014[line] += 1\n",
    "\n",
    "import operator\n",
    "\n",
    "sorted_common_IN_codes_2014 = sorted(common_IN_codes_2014.items(), key=operator.itemgetter(1), reverse=True)\n",
    "\n",
    "sorted_common_OUT_codes_2014 = sorted(common_OUT_codes_2014.items(), key=operator.itemgetter(1), reverse=True)\n",
    "\n",
    "print 'TOP 3 INPATIENT CODES'\n",
    "print sorted_common_IN_codes_2014[:3]\n",
    "print ''\n",
    "print 'TOP 3 OUTPATIENT CODES'\n",
    "print sorted_common_OUT_codes_2014[:3]"
   ]
  },
  {
   "cell_type": "heading",
   "metadata": {},
   "level": 3,
   "source": [
    "Now we know the top 3, lets see what the spending is like for just ohio hospitals."
   ]
  },
  {
   "cell_type": "code",
   "execution_count": 94,
   "metadata": {},
   "outputs": [
    {
     "name": "stdout",
     "output_type": "stream",
     "text": [
      "Top 3 Inpatient codes billed and their means:\n194 - SIMPLE PNEUMONIA & PLEURISY W CC \nMEAN TOTAL PAYMENTS: $ 7269.36\n871 - SEPTICEMIA OR SEVERE SEPSIS W/O MV 96+ HOURS W MCC \nMEAN TOTAL PAYMENTS: $ 13315.41\n292 - HEART FAILURE & SHOCK W CC \nMEAN TOTAL PAYMENTS: $ 7332.02\n\n\nTop 3 Outpatient codes billed means:\n0267 - Level III Diagnostic and Screening Ultrasound \nMEAN TOTAL PAYMENTS: $ 1242.7\n0269 - Level II Echocardiogram Without Contrast \nMEAN TOTAL PAYMENTS: $ 2369.58\n0265 - Level I Diagnostic and Screening Ultrasound \nMEAN TOTAL PAYMENTS: $ 564.1\n"
     ]
    }
   ],
   "source": [
    "TOP3INTuples = []\n",
    "TOP3OUTTuples = []\n",
    "TOP3INCodes = []\n",
    "TOP3OUTCodes = []\n",
    "\n",
    "for code in sorted_common_IN_codes_2014[:3]:\n",
    "    (TOP3INTuples.append(str(code)[1:-7]))\n",
    "    \n",
    "for code in sorted_common_OUT_codes_2014[:3]:\n",
    "    TOP3OUTTuples.append(str(code)[1:-7])\n",
    "    \n",
    "for code in TOP3INTuples:\n",
    "    TOP3INCodes.append(code.replace(\"'\",\"\")) #CMS_In_2014.loc[CMS_In_2014['DRG Definition'] == code]\n",
    "\n",
    "for code in TOP3OUTTuples:\n",
    "    TOP3OUTCodes.append(code.replace(\"'\",\"\"))\n",
    "    \n",
    "print \"Top 3 Inpatient codes billed and their means:\"    \n",
    "\n",
    "for code in TOP3INCodes:\n",
    "    print code, '\\n', \"MEAN TOTAL PAYMENTS: $\", round(CMS_In_2014.loc[CMS_In_2014['DRG Definition'] == code]['Average Total Payments'].mean(), 2)\n",
    "\n",
    "print \"\\n\"\n",
    "\n",
    "print \"Top 3 Outpatient codes billed means:\"\n",
    "\n",
    "for code in TOP3OUTCodes:\n",
    "    print code, '\\n', \"MEAN TOTAL PAYMENTS: $\", round(CMS_Out_2014.loc[CMS_Out_2014['apc'] == code]['Average_Estimated_Submitted_Charges'].mean(), 2)\n",
    "#for line in CMS_In_2014['DRG Definition']:"
   ]
  },
  {
   "cell_type": "heading",
   "metadata": {},
   "level": 3,
   "source": [
    "Just looking at these simple data points shows the most common procedures undertaken in inpatient care seem to be far more expensive than the outpatient ones. Not to mention the massive difference in mortality between the codes!\n",
    "\n",
    "Lets produce a new dataframe with some simple points of data within a single state - lets use Ohio first and gather;\n",
    "\n",
    "1. Variance of the top codes\n",
    "2. Range of the top codes\n",
    "3. Mean of the top codes\n",
    "4. Median of the top codes"
   ]
  },
  {
   "cell_type": "heading",
   "metadata": {},
   "level": 3,
   "source": [
    ""
   ]
  }
 ],
 "metadata": {
  "kernelspec": {
   "display_name": "Python 2",
   "language": "python",
   "name": "python2"
  },
  "language_info": {
   "codemirror_mode": {
    "name": "ipython",
    "version": 2
   },
   "file_extension": ".py",
   "mimetype": "text/x-python",
   "name": "python",
   "nbconvert_exporter": "python",
   "pygments_lexer": "ipython2",
   "version": "2.7.6"
  }
 },
 "nbformat": 4,
 "nbformat_minor": 0
}
