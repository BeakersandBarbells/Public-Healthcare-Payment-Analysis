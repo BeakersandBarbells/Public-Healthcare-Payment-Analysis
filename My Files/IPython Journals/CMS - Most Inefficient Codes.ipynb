{
 "cells": [
  {
   "cell_type": "heading",
   "metadata": {
    "collapsed": true
   },
   "level": 1,
   "source": [
    "Lets use this journal to look a little bit more into the variance of each code. And if we can, break down which codes in which states are the worst in terms of price inconsistency (variance)!"
   ]
  },
  {
   "cell_type": "heading",
   "metadata": {},
   "level": 3,
   "source": [
    "The biggest outliers are all surgical procedures and the non-major outliers are highly expensive procedures. While interesting, its hard to judge these prices without some control over quality of care and outcome. Which is difficult for each procedure to quantify. I could use the Medicare data and use their quality surveys to control for quality but it would still be a poor proxy for a proper quality control.\n",
    "\n",
    "Lets remove all outliers (we left in the minor ones) and see what the top variable codes are."
   ]
  },
  {
   "cell_type": "code",
   "execution_count": 2,
   "metadata": {},
   "outputs": [
    {
     "name": "stdout",
     "output_type": "stream",
     "text": [
      "['DRG Definition', 'Provider Id', 'Provider Name', 'Provider Street Address', 'Provider City', 'Provider State', 'Provider Zip Code', 'Hospital Referral Region (HRR) Description', 'Total Discharges', 'Average Covered Charges', 'Average Total Payments', 'Average Medicare Payments']\n"
     ]
    },
    {
     "name": "stdout",
     "output_type": "stream",
     "text": [
      "                                        DRG Definition       Mean     Median  \\\n0    001 - HEART TRANSPLANT OR IMPLANT OF HEART ASS...  244554.59  235529.59   \n2    003 - ECMO OR TRACH W MV 96+ HRS OR PDX EXC FA...  134199.65  124844.83   \n4    005 - LIVER TRANSPLANT W MCC OR INTESTINAL TRA...  125107.63  117872.75   \n471                        813 - COAGULATION DISORDERS   28490.18   15238.77   \n52    073 - CRANIAL & PERIPHERAL NERVE DISORDERS W MCC   13670.40    9859.89   \n\n     Variance    N  \n0    55655.38   68  \n2    43433.03  454  \n4    41503.21   40  \n471  35526.38  116  \n52   34874.77  148  \n"
     ]
    }
   ],
   "source": [
    "import pandas\n",
    "import numpy as np\n",
    "\n",
    "def code_variance(dataframecolumn):\n",
    "    mean = dataframecolumn.mean()\n",
    "    squaredsum = 0\n",
    "    n = 0\n",
    "    for row in dataframecolumn:\n",
    "        squaredsum += (row - mean) ** 2\n",
    "        n += 1\n",
    "    variance = round((squaredsum / n)**(1/2.0), 2)\n",
    "    if n == 0:\n",
    "        return np.NaN\n",
    "    else:\n",
    "        return variance\n",
    "\n",
    "CMS_In_2014 = pandas.read_csv(\"CMS Data/Medicare_Provider_Charge_Inpatient_DRGALL_FY2014.csv\")     ###Data from cms.gov\n",
    "\n",
    "print list(CMS_In_2014)\n",
    "\n",
    "Inpatient_Code_List = []\n",
    "CMS_In_2014sorted = CMS_In_2014.sort_values('DRG Definition')\n",
    "for item in CMS_In_2014sorted['DRG Definition']:\n",
    "    if item not in Inpatient_Code_List:\n",
    "        Inpatient_Code_List.append(item.replace(\"'\",\"\"))\n",
    "        \n",
    "Inpatient_Mean_List_by_code = []\n",
    "Inpatient_Median_List_by_code = []\n",
    "Inpatient_Variance_List_by_code = []\n",
    "Inpatient_N_List_by_code = []\n",
    "for item in Inpatient_Code_List:\n",
    "    newdf = CMS_In_2014sorted.loc[CMS_In_2014sorted['DRG Definition'] == item]\n",
    "    Inpatient_Mean_List_by_code.append(round(newdf['Average Total Payments'].mean(),2))\n",
    "    Inpatient_Median_List_by_code.append(round(newdf['Average Total Payments'].median(),2))\n",
    "    Inpatient_Variance_List_by_code.append(code_variance(newdf['Average Total Payments']))\n",
    "    Inpatient_N_List_by_code.append(newdf['Average Total Payments'].count())\n",
    "\n",
    "dfinput = zip(Inpatient_Code_List,Inpatient_Mean_List_by_code,Inpatient_Median_List_by_code,Inpatient_Variance_List_by_code,Inpatient_N_List_by_code)\n",
    "\n",
    "INcodesstats_National = pandas.DataFrame(data=dfinput,columns=['DRG Definition','Mean','Median','Variance','N'])\n",
    "\n",
    "INcodesstats_National['DRG Definition'] = Inpatient_Code_List\n",
    "\n",
    "INcodesstats_National.to_pickle('Inpatient Code Stats (CMS) - National(Fixed).pkl')\n",
    "\n",
    "print INcodesstats_National.sort_values('Variance', ascending=False).head()"
   ]
  },
  {
   "cell_type": "heading",
   "metadata": {},
   "level": 2,
   "source": [
    "Interesting"
   ]
  },
  {
   "cell_type": "code",
   "execution_count": 7,
   "metadata": {
    "collapsed": true
   },
   "outputs": [
    {
     "name": "stdout",
     "output_type": "stream",
     "text": [
      "                                                       Mean   Median Variance  \\\n0074 - Level IV Endoscopy Upper Airway              10379.4  8711.36  5753.21   \n0203 - Level IV Nerve Injections                    5735.32  5000.11  3549.69   \n0377 - Level II Cardiac Imaging                     7115.07  6412.13  3445.29   \n0073 - Level III Endoscopy Upper Airway              4106.2  3250.31  3370.34   \n0020 - Level II Excision/ Biopsy                    4466.89  3773.66   3200.3   \n0017 - Level V Debridement & Destruction            5895.37  5365.54  2756.66   \n0207 - Level III Nerve Injections                   3181.04  2486.77  2409.38   \n0270 - Level III Echocardiogram Without Contrast    3763.74  3277.84  2122.44   \n0019 - Level I Excision/ Biopsy                     1505.13  834.117  1993.92   \n0699 - Level IV Eye Tests & Treatments              6414.25  6384.83  1940.27   \n0209 - Level II Extended EEG, Sleep, and Cardio...  2781.45  2332.02  1929.16   \n0206 - Level II Nerve Injections                    2238.31     1863  1431.81   \n0204 - Level I Nerve Injections                     1556.02  1188.93  1364.49   \n0269 - Level II Echocardiogram Without Contrast     2369.58  2034.68  1314.24   \n0633 - Level 3 Examinations & Related Services      1571.99  1216.38  1265.45   \n0336 - Magnetic Resonance Imaging and Magnetic ...  2795.13   2640.4  1174.65   \n0369 - Level III Pulmonary Tests                    1398.19     1112  1079.22   \n0692 - Level II Electronic Analysis of Devices      795.296      570   845.68   \n0267 - Level III Diagnostic and Screening Ultra...   1242.7  1088.89   670.74   \n0096 - Level II Noninvasive Physiologic Studies     822.714  694.154    542.5   \n0015 - Level III Debridement & Destruction          552.398  452.843   461.68   \n0078 - Level III Pulmonary Treatment                694.099  567.371   460.62   \n0368 - Level II Pulmonary Tests                     501.875  395.295   387.54   \n0265 - Level I Diagnostic and Screening Ultrasound  564.102  500.108   305.55   \n0231 - Level III Eye Tests & Treatments             559.731      526   281.03   \n0013 - Level II Debridement & Destruction           387.475   325.45   269.11   \n0690 - Level I Electronic Analysis of Devices       281.336  205.407   266.69   \n0634 - Hospital Clinic Visits                       317.195  251.067   243.43   \n0698 - Level II Eye Tests & Treatments              265.595      212   195.12   \n0012 - Level I Debridement & Destruction            179.389  147.915   143.38   \n0632 - Level 2 Examinations & Related Services      219.912  185.516   136.36   \n0631 - Level 1 Examinations & Related Services      123.112  98.2069       95   \n\n                                                       N  \n0074 - Level IV Endoscopy Upper Airway               267  \n0203 - Level IV Nerve Injections                     685  \n0377 - Level II Cardiac Imaging                     2543  \n0073 - Level III Endoscopy Upper Airway              138  \n0020 - Level II Excision/ Biopsy                    1324  \n0017 - Level V Debridement & Destruction              35  \n0207 - Level III Nerve Injections                   1980  \n0270 - Level III Echocardiogram Without Contrast    1231  \n0019 - Level I Excision/ Biopsy                      417  \n0699 - Level IV Eye Tests & Treatments                 8  \n0209 - Level II Extended EEG, Sleep, and Cardio...   216  \n0206 - Level II Nerve Injections                     783  \n0204 - Level I Nerve Injections                     1784  \n0269 - Level II Echocardiogram Without Contrast     2847  \n0633 - Level 3 Examinations & Related Services        69  \n0336 - Magnetic Resonance Imaging and Magnetic ...  2095  \n0369 - Level III Pulmonary Tests                     367  \n0692 - Level II Electronic Analysis of Devices       465  \n0267 - Level III Diagnostic and Screening Ultra...  2924  \n0096 - Level II Noninvasive Physiologic Studies     1841  \n0015 - Level III Debridement & Destruction          1720  \n0078 - Level III Pulmonary Treatment                1114  \n0368 - Level II Pulmonary Tests                     1336  \n0265 - Level I Diagnostic and Screening Ultrasound  2664  \n0231 - Level III Eye Tests & Treatments               93  \n0013 - Level II Debridement & Destruction           2171  \n0690 - Level I Electronic Analysis of Devices        992  \n0634 - Hospital Clinic Visits                       2514  \n0698 - Level II Eye Tests & Treatments               209  \n0012 - Level I Debridement & Destruction             435  \n0632 - Level 2 Examinations & Related Services       371  \n0631 - Level 1 Examinations & Related Services       257  \n"
     ]
    }
   ],
   "source": [
    "CMS_Out_2014 = pandas.read_csv(\"CMS Data/Medicare_Provider_Charge_Outpatient_APC32_CY2014.csv\") \n",
    "\n",
    "Outpatient_Code_list = []\n",
    "CMS_Out_2014sorted = CMS_Out_2014.sort_values('apc')\n",
    "for item in CMS_Out_2014sorted.apc:\n",
    "    if item not in Outpatient_Code_list:\n",
    "        Outpatient_Code_list.append(item)\n",
    "\n",
    "OUTcodesstats_National = pandas.DataFrame(index=[Outpatient_Code_list], columns=['Mean','Median','Variance', 'N'])\n",
    "\n",
    "for code in OUTcodesstats_National.index:\n",
    "     OUTcodesstats_National.set_value([code],['Mean'],CMS_Out_2014.loc[CMS_Out_2014['apc'] == code]['Average_Estimated_Submitted_Charges'].mean())\n",
    "     OUTcodesstats_National.set_value([code],['Median'],CMS_Out_2014.loc[CMS_Out_2014['apc'] == code]['Average_Estimated_Submitted_Charges'].median()) \n",
    "     OUTcodesstats_National.set_value([code],['Variance'],code_variance(CMS_Out_2014.loc[CMS_Out_2014['apc'] == code]['Average_Estimated_Submitted_Charges']))\n",
    "     OUTcodesstats_National.set_value([code],['N'],CMS_Out_2014.loc[CMS_Out_2014['apc'] == code]['Average_Estimated_Submitted_Charges'].count()) \n",
    "     \n",
    "#OUTcodesstats_National.to_pickle('Outpatient Code Stats (CMS) - National.pkl')     \n",
    "\n",
    "print OUTcodesstats_National.sort_values('Variance', ascending=False)"
   ]
  },
  {
   "cell_type": "heading",
   "metadata": {},
   "level": 2,
   "source": [
    ""
   ]
  },
  {
   "cell_type": "code",
   "execution_count": 3,
   "metadata": {
    "collapsed": false
   },
   "outputs": [
    {
     "name": "stdout",
     "output_type": "stream",
     "text": [
      "['005 - LIVER TRANSPLANT W MCC OR INTESTINAL TRANSPLANT', '003 - ECMO OR TRACH W MV 96+ HRS OR PDX EXC FACE, MOUTH & NECK W MAJ O.R.', '001 - HEART TRANSPLANT OR IMPLANT OF HEART ASSIST SYSTEM W MCC']\n"
     ]
    }
   ],
   "source": [
    "Inpatientdata = pandas.read_pickle('My Files/Parsed Data/Inpatient Code Stats (CMS) - National.pkl')\n",
    "Outpatientdata = pandas.read_pickle('My Files/Parsed Data/Outpatient Code Stats (CMS) - National.pkl')\n",
    "\n",
    "InpatientdatabyVar0 = Inpatientdata.sort_values('Variance')\n",
    "OutpatientdatabyVar0 = Outpatientdata.sort_values('Variance')\n",
    "\n",
    "InpatientdatabyVar = InpatientdatabyVar0.dropna(subset=['Variance'])\n",
    "OutpatientdatabyVar = OutpatientdatabyVar0.dropna(subset=['Variance'])\n",
    "\n",
    "from matplotlib import pyplot as plt\n",
    "\n",
    "Infullcode = list(InpatientdatabyVar['DRG Definition'])\n",
    "\n",
    "print Infullcode[-3:]\n",
    "\n",
    "Inx = []\n",
    "\n",
    "for code in Infullcode:\n",
    "    Inx.append(code[:3])\n",
    "\n",
    "Iny = list(InpatientdatabyVar.Variance)\n",
    "\n",
    "xval = range(0,len(Inx))\n",
    "\n",
    "plt.figure(1, figsize=(45,10), dpi=200)\n",
    "plt.bar(xval, Iny, width=0.7, align='center')\n",
    "plt.xticks(xval, Inx, size='xx-small', rotation='vertical')\n",
    "plt.xlabel('Billable Code')\n",
    "plt.ylabel('Variance')\n",
    "plt.title('National Inpatient Procedure Code Price Variance')\n",
    "plt.tight_layout()\n",
    "\n",
    "\n",
    "#plt.savefig('National Inpatient Procedure Code Price Variance.png')"
   ]
  },
  {
   "cell_type": "code",
   "execution_count": 5,
   "metadata": {},
   "outputs": [
    {
     "name": "stdout",
     "output_type": "stream",
     "text": [
      "[-3577.92, 12050.9] [-9438.73, 17911.71]\n"
     ]
    }
   ],
   "source": [
    "InN = len(InpatientdatabyVar)\n",
    "OutN = len(OutpatientdatabyVar)\n",
    "\n",
    "InMedianVal = (InN/2.0)\n",
    "OutMedianVal = OutN/2.0\n",
    "\n",
    "InLowerQ1 = [InN*0.25, InN*0.25 - 1]\n",
    "InUpperQ3 = [InN*0.75, InN*0.75 + 1]\n",
    "\n",
    "InLowerQ1Val = (InpatientdatabyVar['Variance'][int(InLowerQ1[0])]+InpatientdatabyVar['Variance'][int(InLowerQ1[1])])/2.0\n",
    "\n",
    "InUpperQ3Val = (InpatientdatabyVar['Variance'][int(InUpperQ3[0])]+InpatientdatabyVar['Variance'][int(InUpperQ3[1])])/2.0\n",
    "\n",
    "InMedian = InpatientdatabyVar['Variance'].median()\n",
    "OutMedian = OutpatientdatabyVar['Variance'].median()\n",
    "\n",
    "InIQRange = InUpperQ3Val - InLowerQ1Val\n",
    "\n",
    "InQInnerFenceVal = InIQRange * 1.5\n",
    "InQOuterFenceVal = InIQRange * 3\n",
    "\n",
    "InInnerFences = [round(InLowerQ1Val-InQInnerFenceVal, 2), round(InUpperQ3Val+InQInnerFenceVal, 2)]\n",
    "InOuterFences = [round(InLowerQ1Val-InQOuterFenceVal, 2), round(InUpperQ3Val+InQOuterFenceVal, 2)]\n",
    "\n",
    "print InInnerFences, InOuterFences #These are my discriminators for finding major and minor outliers. We'll only eliminate the Major outliers."
   ]
  },
  {
   "cell_type": "heading",
   "metadata": {},
   "level": 3,
   "source": [
    "Seeing as none of my variance values could be negative"
   ]
  },
  {
   "cell_type": "code",
   "execution_count": 76,
   "metadata": {},
   "outputs": [
    {
     "name": "stdout",
     "output_type": "stream",
     "text": [
      "['463 - WND DEBRID & SKN GRFT EXC HAND, FOR MUSCULO-CONN TISS DIS W MCC', '837 - CHEMO W ACUTE LEUKEMIA AS SDX OR W HIGH DOSE CHEMO AGENT W MCC', '006 - LIVER TRANSPLANT W/O MCC']\n"
     ]
    }
   ],
   "source": [
    "plt.gcf().clear() #Clear the matplotlib entries for the other plot\n",
    "\n",
    "InpatientdatabyVarNoMajorOuts = InpatientdatabyVar[InpatientdatabyVar.Variance <= 17912]\n",
    "\n",
    "InfullcodeNoMajorOuts = list(InpatientdatabyVarNoMajorOuts['DRG Definition'])\n",
    "\n",
    "print InfullcodeNoMajorOuts[-3:]\n",
    "\n",
    "Inx1 = []\n",
    "\n",
    "for code in InfullcodeNoMajorOuts:\n",
    "    Inx1.append(code[:3])\n",
    "\n",
    "Iny1 = list(InpatientdatabyVarNoMajorOuts.Variance)\n",
    "\n",
    "xval1 = range(0,len(Inx1))\n",
    "\n",
    "plt.figure(2, figsize=(45,10), dpi=200)\n",
    "plt.bar(xval1, Iny1, width=0.7, color='g', align='center')\n",
    "plt.xticks(xval1, Inx1, size='xx-small', rotation='vertical')\n",
    "plt.xlabel('Billable Code')\n",
    "plt.ylabel('Variance')\n",
    "plt.title('National Inpatient Procedure Code Price Variance With No Major Outliers')\n",
    "plt.tight_layout()\n",
    "\n",
    "#plt.savefig('National Inpatient Procedure Code Price Variance With No Major Outliers.png')"
   ]
  },
  {
   "cell_type": "heading",
   "metadata": {},
   "level": 3,
   "source": [
    "The biggest outliers are all surgical procedures and the non-major outliers are highly expensive procedures. While interesting, its hard to judge these prices without some control over quality of care and outcome. Which is difficult for each procedure to quantify. I could use the Medicare data and use their quality surveys to control for quality but it would still be a poor proxy for a proper quality control.\n",
    "\n",
    "Lets remove all outliers (we left in the minor ones) and see what the top variable codes are."
   ]
  },
  {
   "cell_type": "code",
   "execution_count": 77,
   "metadata": {},
   "outputs": [
    {
     "name": "stdout",
     "output_type": "stream",
     "text": [
      "['459 - SPINAL FUSION EXCEPT CERVICAL W MCC', '870 - SEPTICEMIA OR SEVERE SEPSIS W MV 96+ HOURS', '928 - FULL THICKNESS BURN W SKIN GRAFT OR INHAL INJ W CC/MCC']\n"
     ]
    }
   ],
   "source": [
    "plt.gcf().clear()\n",
    "\n",
    "InpatientdatabyVarNoOuts = InpatientdatabyVar[InpatientdatabyVar.Variance <= InInnerFences[1]]\n",
    "\n",
    "InfullcodeNoOuts = list(InpatientdatabyVarNoOuts['DRG Definition'])\n",
    "\n",
    "print InfullcodeNoOuts[-3:]\n",
    "\n",
    "Inx2 = []\n",
    "\n",
    "for code in InfullcodeNoOuts:\n",
    "    Inx2.append(code[:3])\n",
    "\n",
    "Iny2 = list(InpatientdatabyVarNoOuts.Variance)\n",
    "\n",
    "xval2 = range(0,len(Inx2))\n",
    "\n",
    "plt.figure(3, figsize=(45,10), dpi=200)\n",
    "plt.bar(xval2, Iny2, width=0.7, color='y', align='center')\n",
    "plt.xticks(xval2, Inx2, size='xx-small', rotation='vertical')\n",
    "plt.xlabel('Billable Code')\n",
    "plt.ylabel('Variance')\n",
    "plt.title('National Inpatient Procedure Code Price Variance With No Outliers')\n",
    "plt.tight_layout()\n",
    "\n",
    "#plt.savefig('National Inpatient Procedure Code Price Variance With No Outliers.png')"
   ]
  },
  {
   "cell_type": "heading",
   "metadata": {},
   "level": 3,
   "source": [
    "Looks like we're getting away from expensive and challenging surgical procedures. I also see a trend in these highly cost variable procedures - many of them seem to have MCC or CC in the code name. CC stands for Complication and MCC stands for Major Complication. Lets try and color the bars that have MCC as red and CC as orange.\n",
    "\n",
    "To do so lets create a new column in our dataframe. In the DRG codes, a code has either CC, MCC or CC/MCC with a \"W\" or a \"W/O\" to tell if it had a complication. Knowing this lets set our values where a value of 0 = no complication, 1 = complication, 2 = CC/MCC and 3 = MCC only.\n",
    "\n",
    "If we wanted we could even quantify per code how much a complication or major complication throws price equilibrium out of whack (if all three versions of a code are present in the dataset and have a variance). Or how much more it costs to have a Major complication or just a complication."
   ]
  },
  {
   "cell_type": "code",
   "execution_count": 4,
   "metadata": {},
   "outputs": [
    {
     "name": "stdout",
     "output_type": "stream",
     "text": [
      "416    0\n330    2\n459    1\n331    0\n457    2\nName: Complication Score, dtype: int64\n"
     ]
    }
   ],
   "source": [
    "#print InpatientdatabyVar.tail()\n",
    "\n",
    "def complicationchecker(DRGorAPCstring):\n",
    "    stringlist = DRGorAPCstring\n",
    "    if \"W CC\" in stringlist and \"MCC\" not in stringlist:\n",
    "        return 1\n",
    "    elif \"W CC/MCC\" in stringlist:\n",
    "        return 2\n",
    "    elif \"W MCC\" in stringlist:\n",
    "        return 3\n",
    "    else:\n",
    "        return 0\n",
    "\n",
    "#print InpatientdatabyVar['DRG Definition'].apply(str.split).tail()\n",
    "InpatientdatabyVar['Complication Score'] = InpatientdatabyVar['DRG Definition'].apply(complicationchecker)\n",
    "\n",
    "print InpatientdatabyVar['Complication Score'].head()"
   ]
  },
  {
   "cell_type": "heading",
   "metadata": {},
   "level": 3,
   "source": [
    "Now lets try to classify the complication scores with different bar colors and graph it!"
   ]
  },
  {
   "cell_type": "code",
   "execution_count": 69,
   "metadata": {
    "collapsed": true
   },
   "outputs": [],
   "source": [
    "nozeroInpatientdatabyVar = InpatientdatabyVar[InpatientdatabyVar.Variance != 0]\n",
    "\n",
    "nozeroInpatientdatabyVar.reset_index(drop=True, inplace=True)\n",
    "\n",
    "mask1 = nozeroInpatientdatabyVar.loc[nozeroInpatientdatabyVar['Complication Score'] == 0]\n",
    "mask2 = nozeroInpatientdatabyVar.loc[nozeroInpatientdatabyVar['Complication Score'] == 1]\n",
    "mask3 = nozeroInpatientdatabyVar.loc[nozeroInpatientdatabyVar['Complication Score'] == 2]\n",
    "mask4 = nozeroInpatientdatabyVar.loc[nozeroInpatientdatabyVar['Complication Score'] == 3]\n",
    "\n",
    "mask1Inx = []\n",
    "mask2Inx = []\n",
    "mask3Inx = []\n",
    "mask4Inx = []\n",
    "\n",
    "for code in mask1['DRG Definition']:\n",
    "    mask1Inx.append(code)\n",
    "for code in mask2['DRG Definition']:\n",
    "    mask2Inx.append(code)\n",
    "for code in mask3['DRG Definition']:\n",
    "    mask3Inx.append(code)\n",
    "for code in mask4['DRG Definition']:\n",
    "    mask4Inx.append(code)\n",
    "    \n",
    "#print mask1Inx,mask2Inx,mask3Inx,mask4Inx\n",
    "\n",
    "mask1Iny = list(mask1.Variance)\n",
    "mask2Iny = list(mask2.Variance)\n",
    "mask3Iny = list(mask3.Variance)\n",
    "mask4Iny = list(mask4.Variance)\n",
    "\n",
    "boxlist = [mask1Iny, mask2Iny, mask3Iny, mask4Iny]\n",
    "\n",
    "Totalx = len(nozeroInpatientdatabyVar['DRG Definition'])\n",
    "mask1xticks = len(mask1['DRG Definition'])\n",
    "\n",
    "\n",
    "labels = ['No Complications \\n \\n N = '+str(len(mask1Inx)),'With Complication \\n \\n N = '+str(len(mask2Inx)),'With Complication or \\n Major Complication \\n N = '+str(len(mask3Inx)),'With Major Complication \\n \\n N = '+str(len(mask4Inx))]\n",
    "\n",
    "plt.gcf().clear()\n",
    "plt.figure(4, figsize=[6,5], dpi=150)\n",
    "plt.boxplot(boxlist, widths=0.5)\n",
    "plt.xticks([1,2,3,4],labels, fontsize='x-small')\n",
    "plt.ylabel('Variance (Unit-less)')\n",
    "plt.xlabel('DRG Codes Grouped by Presence of Complication')\n",
    "plt.title('DRG Code Price Variance \\n By Presence of Complication - National')\n",
    "plt.tight_layout()\n",
    "# plt.show()\n",
    "plt.savefig('DRG Code Price Variance, Grouped by Complication Status - National.png')"
   ]
  },
  {
   "cell_type": "code",
   "execution_count": null,
   "metadata": {},
   "outputs": [],
   "source": [
    ""
   ]
  },
  {
   "cell_type": "code",
   "execution_count": 22,
   "metadata": {},
   "outputs": [],
   "source": [
    ""
   ]
  }
 ],
 "metadata": {
  "kernelspec": {
   "display_name": "Python 2",
   "language": "python",
   "name": "python2"
  },
  "language_info": {
   "codemirror_mode": {
    "name": "ipython",
    "version": 2
   },
   "file_extension": ".py",
   "mimetype": "text/x-python",
   "name": "python",
   "nbconvert_exporter": "python",
   "pygments_lexer": "ipython2",
   "version": "2.7.6"
  }
 },
 "nbformat": 4,
 "nbformat_minor": 0
}
